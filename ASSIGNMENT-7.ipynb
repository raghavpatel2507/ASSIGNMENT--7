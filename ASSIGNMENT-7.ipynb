{
 "cells": [
  {
   "cell_type": "markdown",
   "id": "ed1515e3",
   "metadata": {},
   "source": [
    "# assignment-7"
   ]
  },
  {
   "cell_type": "code",
   "execution_count": 17,
   "id": "ada8839e",
   "metadata": {},
   "outputs": [
    {
     "name": "stdout",
     "output_type": "stream",
     "text": [
      "List [1, 2, 3, 4, [44, 55, 66, True], False, (34, 56, 78, 89, 34), {1, 2, 3}, {1: 34, 'key2': [55, 67, 78, 89], 4: (45, 22, 61, 34)}, [56, 'data science'], 'Machine Learning'] \n",
      "\n",
      "Flat List : [1, 2, 3, 4, 44, 55, 66, True, False, 34, 56, 78, 89, 34, 1, 2, 3, 1, 'key2', 4, 56, 'data science', 'Machine Learning']\n"
     ]
    }
   ],
   "source": [
    "# Q-1\n",
    "def flat(lis):\n",
    "    flatList = []\n",
    "    # Iterate with outer list\n",
    "    for element in lis:\n",
    "        if type(element) is list:\n",
    "            # Check if type is list than iterate through the sublist\n",
    "            for item in element:\n",
    "                flatList.append(item)\n",
    "        elif type(element) is tuple:\n",
    "            for item in element:\n",
    "                flatList.append(item)\n",
    "        elif type(element) is dict:\n",
    "            for item in element:\n",
    "                flatList.append(item)\n",
    "        elif type(element) is set:\n",
    "            for item in element:\n",
    "                flatList.append(item)\n",
    "        else:\n",
    "            flatList.append(element)\n",
    "    return flatList\n",
    " \n",
    "lis = [1,2,3,4, [44,55,66, True], False, (34,56,78,89,34), {1,2,3,3,2,1}, {1:34, \"key2\": [55, 67, 78, 89], 4: (45, \n",
    "22, 61, 34)}, [56, 'data science'], 'Machine Learning']\n",
    "print('List', lis,'\\n')\n",
    "print('Flat List :', flat(lis))"
   ]
  },
  {
   "cell_type": "code",
   "execution_count": 22,
   "id": "e7aaf037",
   "metadata": {},
   "outputs": [
    {
     "name": "stdout",
     "output_type": "stream",
     "text": [
      "$i$wznt$to$yexome$z$dztz$sxientist.\n"
     ]
    }
   ],
   "source": [
    "#Q-2\n",
    "encrypt = \" I want to become a Data Scientist.\"\n",
    "dict = {\"a\": \"z\", \"b\": \"y\",\n",
    "        \"c\": \"x\", \" \": \"$\"\n",
    "        }\n",
    " \n",
    "num = encrypt[::1]\n",
    " \n",
    "\n",
    "for i in dict:\n",
    "    num = num.replace(i, dict[i])\n",
    "print(num.lower())"
   ]
  },
  {
   "cell_type": "code",
   "execution_count": null,
   "id": "8320eb18",
   "metadata": {},
   "outputs": [],
   "source": []
  }
 ],
 "metadata": {
  "kernelspec": {
   "display_name": "Python 3 (ipykernel)",
   "language": "python",
   "name": "python3"
  },
  "language_info": {
   "codemirror_mode": {
    "name": "ipython",
    "version": 3
   },
   "file_extension": ".py",
   "mimetype": "text/x-python",
   "name": "python",
   "nbconvert_exporter": "python",
   "pygments_lexer": "ipython3",
   "version": "3.9.13"
  }
 },
 "nbformat": 4,
 "nbformat_minor": 5
}
